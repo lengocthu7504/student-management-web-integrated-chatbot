{
  "cells": [
    {
      "cell_type": "code",
      "execution_count": null,
      "metadata": {
        "colab": {
          "base_uri": "https://localhost:8080/"
        },
        "id": "m2nCEGJE4Ecm",
        "outputId": "9a525728-d8ae-41c5-cea6-251722c2f5ee"
      },
      "outputs": [
        {
          "name": "stdout",
          "output_type": "stream",
          "text": [
            "Mounted at /content/drive\n"
          ]
        }
      ],
      "source": [
        "from google.colab import drive\n",
        "drive.mount('/content/drive')"
      ]
    },
    {
      "cell_type": "code",
      "execution_count": null,
      "metadata": {
        "colab": {
          "base_uri": "https://localhost:8080/"
        },
        "id": "lB8wvgiBItH-",
        "outputId": "c585373b-e880-4727-c651-04755fd325ed"
      },
      "outputs": [
        {
          "name": "stdout",
          "output_type": "stream",
          "text": [
            "Collecting ibm_db\n",
            "  Downloading ibm_db-3.2.3-cp310-cp310-manylinux_2_17_x86_64.manylinux2014_x86_64.whl.metadata (1.4 kB)\n",
            "Downloading ibm_db-3.2.3-cp310-cp310-manylinux_2_17_x86_64.manylinux2014_x86_64.whl (43.6 MB)\n",
            "\u001b[2K   \u001b[90m━━━━━━━━━━━━━━━━━━━━━━━━━━━━━━━━━━━━━━━━\u001b[0m \u001b[32m43.6/43.6 MB\u001b[0m \u001b[31m11.1 MB/s\u001b[0m eta \u001b[36m0:00:00\u001b[0m\n",
            "\u001b[?25hInstalling collected packages: ibm_db\n",
            "Successfully installed ibm_db-3.2.3\n"
          ]
        }
      ],
      "source": [
        "!pip install ibm_db"
      ]
    },
    {
      "cell_type": "code",
      "execution_count": null,
      "metadata": {
        "colab": {
          "base_uri": "https://localhost:8080/"
        },
        "id": "GI4e4wY8Ikr7",
        "outputId": "1de8f895-ea23-40d5-e3a0-2a96fccd9b6f"
      },
      "outputs": [
        {
          "name": "stdout",
          "output_type": "stream",
          "text": [
            "Connected to database:  bludb as user:  chb46840 on host:  0c77d6f2-5da9-48a9-81f8-86b520b87518.bs2io90l08kqb1od8lcg.databases.appdomain.cloud\n",
            "  Tên Sinh Viên             0   Ngày Sinh           1  Mã Số      2  \\\n",
            "0  Nguyễn Văn A  Nguyễn Văn A  1999-01-15  1999-01-15  SV001  SV001   \n",
            "\n",
            "          Chuyên Ngành                    3  \n",
            "0  Công nghệ thông tin  Công nghệ thông tin  \n"
          ]
        }
      ],
      "source": [
        "import ibm_db\n",
        "import os\n",
        "import pandas as pd\n",
        "\n",
        "# Set your IBM Db2 credentials in the environment variables or manually assign them in the code below.\n",
        "dsn_hostname = os.getenv('DB_HOST', '') # change this\n",
        "dsn_uid = os.getenv('DB_UID', '')  # change this\n",
        "dsn_pwd = os.getenv('DB_PWD', '')  # change this\n",
        "dsn_port = os.getenv('DB_PORT', '')  # change this\n",
        "dsn_database = \"bludb\"  # change if necessary\n",
        "dsn_driver = \"{IBM DB2 ODBC DRIVER}\"\n",
        "dsn_protocol = \"TCPIP\"\n",
        "dsn_security = \"SSL\"\n",
        "\n",
        "# Create the dsn connection string\n",
        "dsn = (\n",
        "    \"DRIVER={0};\"\n",
        "    \"DATABASE={1};\"\n",
        "    \"HOSTNAME={2};\"\n",
        "    \"PORT={3};\"\n",
        "    \"PROTOCOL={4};\"\n",
        "    \"UID={5};\"\n",
        "    \"PWD={6};\"\n",
        "    \"SECURITY={7};\").format(dsn_driver, dsn_database, dsn_hostname, dsn_port, dsn_protocol, dsn_uid, dsn_pwd, dsn_security)\n",
        "\n",
        "# Create database connection\n",
        "try:\n",
        "    conn = ibm_db.connect(dsn, \"\", \"\")\n",
        "    print(\"Connected to database: \", dsn_database, \"as user: \", dsn_uid, \"on host: \", dsn_hostname)\n",
        "\n",
        "    # Query to get the first 5 rows from the table\n",
        "    command = \"SELECT * FROM CB106 FETCH FIRST 1 ROWS ONLY\"   # Câu lệnh SQL command = \"SELECT * FROM cb106 FETCH FIRST 1 ROWS ONLY\" đơn giản là truy vấn để lấy một dòng dữ liệu đầu tiên từ bảng cb106 trong cơ sở dữ liệu.\n",
        "                                                              # Đây là một cú pháp phổ biến trong SQL để giới hạn số lượng hàng trả về.\n",
        "    # SELECT column_name FROM cb106 FETCH FIRST 1 ROWS ONLY;  # Lấy cột column_name hàng 1\n",
        "\n",
        "    stmt = ibm_db.exec_immediate(conn, command)\n",
        "\n",
        "    # Fetch the result set\n",
        "    result = ibm_db.fetch_both(stmt)\n",
        "    rows = []\n",
        "\n",
        "    # Loop through the result and fetch the rows\n",
        "    while result:\n",
        "        rows.append(result)\n",
        "        result = ibm_db.fetch_both(stmt)\n",
        "\n",
        "    # Convert result to a pandas DataFrame for better readability\n",
        "    df = pd.DataFrame(rows)\n",
        "    print(df)\n",
        "\n",
        "except Exception as e:\n",
        "    print(\"Error connecting to the database: \", str(e))\n",
        "finally:\n",
        "    # Close the connection\n",
        "    if conn:\n",
        "        ibm_db.close(conn)\n"
      ]
    },
    {
      "cell_type": "code",
      "execution_count": null,
      "metadata": {
        "colab": {
          "base_uri": "https://localhost:8080/",
          "height": 34
        },
        "id": "CISnjVDQ2acq",
        "outputId": "1586052c-b897-4d34-e64b-2075e1e7bbf5"
      },
      "outputs": [
        {
          "name": "stdout",
          "output_type": "stream",
          "text": [
            "https://fq4qm86m91v-496ff2e9c6d22116-5000-colab.googleusercontent.com/\n"
          ]
        }
      ],
      "source": [
        "from google.colab.output import eval_js\n",
        "print(eval_js('google.colab.kernel.proxyPort(5000)'))"
      ]
    },
    {
      "cell_type": "code",
      "execution_count": null,
      "metadata": {
        "id": "zr6-jhYr3ZYR"
      },
      "outputs": [],
      "source": [
        "def fetch_students():\n",
        "    try:\n",
        "        conn = ibm_db.connect(dsn, \"\", \"\")\n",
        "        query = \"SELECT * FROM CB106\"\n",
        "        stmt = ibm_db.exec_immediate(conn, query)\n",
        "        rows = []\n",
        "        result = ibm_db.fetch_assoc(stmt)\n",
        "        while result:\n",
        "            rows.append(result)\n",
        "            result = ibm_db.fetch_assoc(stmt)\n",
        "        df = pd.DataFrame(rows)\n",
        "        return df\n",
        "    except Exception as e:\n",
        "        print(\"Error fetching students from DB2: \", str(e))\n",
        "        return None\n",
        "    finally:\n",
        "        if 'conn' in locals():\n",
        "            ibm_db.close(conn)\n",
        "\n",
        "# Add a student to DB2\n",
        "def add_student(name, birth_date, student_id, major):\n",
        "    try:\n",
        "        conn = ibm_db.connect(dsn, \"\", \"\")\n",
        "        query = \"\"\"\n",
        "        INSERT INTO CB106 (\"Tên Sinh Viên\", \"Ngày Sinh\", \"Mã Số\", \"Chuyên Ngành\")\n",
        "        VALUES (?, ?, ?, ?)\n",
        "        \"\"\"\n",
        "        stmt = ibm_db.prepare(conn, query)\n",
        "        ibm_db.bind_param(stmt, 1, name)\n",
        "        ibm_db.bind_param(stmt, 2, birth_date)\n",
        "        ibm_db.bind_param(stmt, 3, student_id)\n",
        "        ibm_db.bind_param(stmt, 4, major)\n",
        "        ibm_db.execute(stmt)\n",
        "    except Exception as e:\n",
        "        print(\"Error adding student to DB2: \", str(e))\n",
        "    finally:\n",
        "        if 'conn' in locals():\n",
        "            ibm_db.close(conn)\n",
        "\n",
        "\n",
        "# Delete a student from DB2\n",
        "def delete_student(student_id):\n",
        "    try:\n",
        "        conn = ibm_db.connect(dsn, \"\", \"\")\n",
        "        query = \"DELETE FROM CB106 WHERE \\\"Mã Số\\\" = ?\"\n",
        "        stmt = ibm_db.prepare(conn, query)\n",
        "        ibm_db.bind_param(stmt, 1, student_id)\n",
        "        ibm_db.execute(stmt)\n",
        "    except Exception as e:\n",
        "        print(\"Error deleting student from DB2: \", str(e))\n",
        "    finally:\n",
        "        if 'conn' in locals():\n",
        "            ibm_db.close(conn)\n"
      ]
    },
    {
      "cell_type": "code",
      "execution_count": null,
      "metadata": {
        "colab": {
          "base_uri": "https://localhost:8080/"
        },
        "id": "tDGCaK9BK2PL",
        "outputId": "18257f28-aa6e-499a-ce03-d49996a1c15f"
      },
      "outputs": [
        {
          "name": "stdout",
          "output_type": "stream",
          "text": [
            "/content/drive/MyDrive\n"
          ]
        }
      ],
      "source": [
        "cd /content/drive/MyDrive"
      ]
    },
    {
      "cell_type": "code",
      "execution_count": null,
      "metadata": {
        "colab": {
          "background_save": true,
          "base_uri": "https://localhost:8080/"
        },
        "id": "me3omf47DtZ4",
        "outputId": "ca6f72d6-6762-42a9-9c41-fdf85e573a04"
      },
      "outputs": [
        {
          "name": "stdout",
          "output_type": "stream",
          "text": [
            " * Serving Flask app '__main__'\n",
            " * Debug mode: off\n"
          ]
        },
        {
          "name": "stderr",
          "output_type": "stream",
          "text": [
            "INFO:werkzeug:\u001b[31m\u001b[1mWARNING: This is a development server. Do not use it in a production deployment. Use a production WSGI server instead.\u001b[0m\n",
            " * Running on http://127.0.0.1:5000\n",
            "INFO:werkzeug:\u001b[33mPress CTRL+C to quit\u001b[0m\n",
            "INFO:werkzeug:127.0.0.1 - - [21/Oct/2024 03:58:23] \"\u001b[32mPOST / HTTP/1.1\u001b[0m\" 302 -\n"
          ]
        },
        {
          "name": "stdout",
          "output_type": "stream",
          "text": [
            "Error adding student to DB2:  Statement Execute Failed: [IBM][CLI Driver] CLI0109E  String data right truncation. SQLSTATE=22001 SQLCODE=-99999\n"
          ]
        },
        {
          "name": "stderr",
          "output_type": "stream",
          "text": [
            "INFO:werkzeug:127.0.0.1 - - [21/Oct/2024 03:58:31] \"GET / HTTP/1.1\" 200 -\n",
            "INFO:werkzeug:127.0.0.1 - - [21/Oct/2024 03:58:32] \"\u001b[33mGET /favicon.ico HTTP/1.1\u001b[0m\" 404 -\n",
            "INFO:werkzeug:127.0.0.1 - - [21/Oct/2024 03:58:45] \"\u001b[32mPOST / HTTP/1.1\u001b[0m\" 302 -\n"
          ]
        },
        {
          "name": "stdout",
          "output_type": "stream",
          "text": [
            "Error adding student to DB2:  Statement Execute Failed: [IBM][CLI Driver] CLI0109E  String data right truncation. SQLSTATE=22001 SQLCODE=-99999\n"
          ]
        },
        {
          "name": "stderr",
          "output_type": "stream",
          "text": [
            "INFO:werkzeug:127.0.0.1 - - [21/Oct/2024 04:00:20] \"GET / HTTP/1.1\" 200 -\n",
            "INFO:werkzeug:127.0.0.1 - - [21/Oct/2024 04:00:20] \"\u001b[33mGET /favicon.ico HTTP/1.1\u001b[0m\" 404 -\n",
            "INFO:werkzeug:127.0.0.1 - - [21/Oct/2024 04:00:45] \"\u001b[32mPOST / HTTP/1.1\u001b[0m\" 302 -\n"
          ]
        },
        {
          "name": "stdout",
          "output_type": "stream",
          "text": [
            "Error adding student to DB2:  Statement Execute Failed: [IBM][CLI Driver] CLI0109E  String data right truncation. SQLSTATE=22001 SQLCODE=-99999\n"
          ]
        },
        {
          "name": "stderr",
          "output_type": "stream",
          "text": [
            "INFO:werkzeug:127.0.0.1 - - [21/Oct/2024 04:01:54] \"GET / HTTP/1.1\" 200 -\n",
            "INFO:werkzeug:127.0.0.1 - - [21/Oct/2024 04:01:55] \"\u001b[33mGET /favicon.ico HTTP/1.1\u001b[0m\" 404 -\n",
            "INFO:werkzeug:127.0.0.1 - - [21/Oct/2024 04:02:15] \"\u001b[32mPOST / HTTP/1.1\u001b[0m\" 302 -\n",
            "INFO:werkzeug:127.0.0.1 - - [21/Oct/2024 04:02:38] \"\u001b[32mPOST / HTTP/1.1\u001b[0m\" 302 -\n",
            "INFO:werkzeug:127.0.0.1 - - [21/Oct/2024 04:02:44] \"GET / HTTP/1.1\" 200 -\n",
            "INFO:werkzeug:127.0.0.1 - - [21/Oct/2024 04:02:45] \"\u001b[33mGET /favicon.ico HTTP/1.1\u001b[0m\" 404 -\n",
            "INFO:werkzeug:127.0.0.1 - - [21/Oct/2024 04:03:06] \"\u001b[32mPOST / HTTP/1.1\u001b[0m\" 302 -\n",
            "INFO:werkzeug:127.0.0.1 - - [21/Oct/2024 04:03:11] \"\u001b[32mPOST / HTTP/1.1\u001b[0m\" 302 -\n",
            "INFO:werkzeug:127.0.0.1 - - [21/Oct/2024 04:03:16] \"GET / HTTP/1.1\" 200 -\n",
            "INFO:werkzeug:127.0.0.1 - - [21/Oct/2024 04:03:17] \"\u001b[33mGET /favicon.ico HTTP/1.1\u001b[0m\" 404 -\n",
            "INFO:werkzeug:127.0.0.1 - - [21/Oct/2024 04:03:45] \"\u001b[32mPOST / HTTP/1.1\u001b[0m\" 302 -\n",
            "INFO:werkzeug:127.0.0.1 - - [21/Oct/2024 04:03:51] \"GET / HTTP/1.1\" 200 -\n",
            "INFO:werkzeug:127.0.0.1 - - [21/Oct/2024 04:03:52] \"\u001b[33mGET /favicon.ico HTTP/1.1\u001b[0m\" 404 -\n",
            "INFO:werkzeug:127.0.0.1 - - [21/Oct/2024 04:04:00] \"\u001b[32mPOST / HTTP/1.1\u001b[0m\" 302 -\n",
            "INFO:werkzeug:127.0.0.1 - - [21/Oct/2024 04:04:06] \"GET / HTTP/1.1\" 200 -\n",
            "INFO:werkzeug:127.0.0.1 - - [21/Oct/2024 04:04:06] \"\u001b[33mGET /favicon.ico HTTP/1.1\u001b[0m\" 404 -\n",
            "INFO:werkzeug:127.0.0.1 - - [21/Oct/2024 04:06:05] \"\u001b[32mPOST / HTTP/1.1\u001b[0m\" 302 -\n"
          ]
        },
        {
          "name": "stdout",
          "output_type": "stream",
          "text": [
            "Error deleting student from DB2:  Statement Execute Failed: [IBM][CLI Driver] CLI0109E  String data right truncation. SQLSTATE=22001 SQLCODE=-99999\n"
          ]
        }
      ],
      "source": [
        "from flask import Flask, render_template, request, redirect, url_for\n",
        "import ibm_db\n",
        "import pandas as pd\n",
        "import os\n",
        "\n",
        "\n",
        "app = Flask(__name__)\n",
        "\n",
        "@app.route('/', methods=['GET', 'POST'])\n",
        "def index():\n",
        "    if request.method == 'POST':\n",
        "        if 'add' in request.form:\n",
        "            name = request.form['name']\n",
        "            birth_date = request.form['birth_date']\n",
        "            student_id = request.form['student_id']\n",
        "            major = request.form['major']\n",
        "            # Add student to DB2\n",
        "            add_student(name, birth_date, student_id, major)\n",
        "        elif 'delete' in request.form:\n",
        "            student_id = request.form['student_id']\n",
        "            # Delete student from DB2\n",
        "            delete_student(student_id)\n",
        "        # After updating DB2, redirect to refresh the page with updated student list\n",
        "        return redirect(url_for('index'))\n",
        "\n",
        "    # Fetch updated student list from DB2 and display\n",
        "    students = fetch_students()\n",
        "    return render_template('index.html', students=students)\n",
        "    # return\n",
        "\n",
        "# Run the Flask app\n",
        "if __name__ == '__main__':\n",
        "    app.run(port=5000)"
      ]
    },
    {
      "cell_type": "code",
      "execution_count": null,
      "metadata": {
        "id": "CovM9sgj4ml9"
      },
      "outputs": [],
      "source": []
    }
  ],
  "metadata": {
    "colab": {
      "provenance": []
    },
    "kernelspec": {
      "display_name": "Python 3",
      "name": "python3"
    },
    "language_info": {
      "name": "python"
    }
  },
  "nbformat": 4,
  "nbformat_minor": 0
}
